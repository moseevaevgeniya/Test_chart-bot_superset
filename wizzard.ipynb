{
 "cells": [
  {
   "cell_type": "markdown",
   "id": "09750a46",
   "metadata": {
    "toc": true
   },
   "source": [
    "<h1>Table of Contents<span class=\"tocSkip\"></span></h1>\n",
    "<div class=\"toc\"><ul class=\"toc-item\"><li><span><a href=\"#Описание-данных\" data-toc-modified-id=\"Описание-данных-1\"><span class=\"toc-item-num\">1&nbsp;&nbsp;</span>Описание данных</a></span></li><li><span><a href=\"#Загрузка-библиотек\" data-toc-modified-id=\"Загрузка-библиотек-2\"><span class=\"toc-item-num\">2&nbsp;&nbsp;</span>Загрузка библиотек</a></span></li><li><span><a href=\"#Загрузка-файла-и-осмотр-данных\" data-toc-modified-id=\"Загрузка-файла-и-осмотр-данных-3\"><span class=\"toc-item-num\">3&nbsp;&nbsp;</span>Загрузка файла и осмотр данных</a></span></li><li><span><a href=\"#Подключаем-бота-и-пишем-первую-функцию\" data-toc-modified-id=\"Подключаем-бота-и-пишем-первую-функцию-4\"><span class=\"toc-item-num\">4&nbsp;&nbsp;</span>Подключаем бота и пишем первую функцию</a></span><ul class=\"toc-item\"><li><span><a href=\"#Напишем-первую-команду\" data-toc-modified-id=\"Напишем-первую-команду-4.1\"><span class=\"toc-item-num\">4.1&nbsp;&nbsp;</span>Напишем первую команду</a></span></li><li><span><a href=\"#Добавляем-SQLite\" data-toc-modified-id=\"Добавляем-SQLite-4.2\"><span class=\"toc-item-num\">4.2&nbsp;&nbsp;</span>Добавляем SQLite</a></span></li><li><span><a href=\"#Пишем-функции-нашему-боту\" data-toc-modified-id=\"Пишем-функции-нашему-боту-4.3\"><span class=\"toc-item-num\">4.3&nbsp;&nbsp;</span>Пишем функции нашему боту</a></span><ul class=\"toc-item\"><li><span><a href=\"#Добавим-продажи-в-список\" data-toc-modified-id=\"Добавим-продажи-в-список-4.3.1\"><span class=\"toc-item-num\">4.3.1&nbsp;&nbsp;</span>Добавим продажи в список</a></span></li><li><span><a href=\"#Покажем-отчёт\" data-toc-modified-id=\"Покажем-отчёт-4.3.2\"><span class=\"toc-item-num\">4.3.2&nbsp;&nbsp;</span>Покажем отчёт</a></span></li><li><span><a href=\"#Связываем-отчёт\" data-toc-modified-id=\"Связываем-отчёт-4.3.3\"><span class=\"toc-item-num\">4.3.3&nbsp;&nbsp;</span>Связываем отчёт</a></span></li></ul></li></ul></li></ul></div>"
   ]
  },
  {
   "cell_type": "markdown",
   "id": "6f7794f1",
   "metadata": {},
   "source": [
    "# Проект : Написать телеграм бота"
   ]
  },
  {
   "cell_type": "markdown",
   "id": "e8e32c51",
   "metadata": {},
   "source": [
    "**Технические требования к разработке:**  \n",
    "Наличие HTTP сервиса (Python), который имеет 2 метода:  \n",
    "● добавить запись о продаже   \n",
    "● получить данные о продажах за период  \n",
    "**В телеграм боте должны быть доступны 2 кнопки:**  \n",
    "● Внести данные о продаже  \n",
    "● Получить отчет о продажах за период  \n",
    "**Результат:**  \n",
    "● ссылка на github  \n",
    "● ссылка на бот  "
   ]
  },
  {
   "cell_type": "markdown",
   "id": "f152a365",
   "metadata": {},
   "source": [
    "## Описание данных"
   ]
  },
  {
   "cell_type": "markdown",
   "id": "b6c300c9",
   "metadata": {},
   "source": [
    "Таблица `nomenk_wine`  содержит сущности:  \n",
    "- `date` - первый день месяца,  \n",
    "- `lvl_5` - номенклатура,  \n",
    "- `card_id` - ключ покупателя,   \n",
    "- `checks` - количество уникальных чеков. "
   ]
  },
  {
   "cell_type": "markdown",
   "id": "39e185fe",
   "metadata": {},
   "source": [
    "## Загрузка библиотек"
   ]
  },
  {
   "cell_type": "code",
   "execution_count": 1,
   "id": "6202ed99",
   "metadata": {},
   "outputs": [],
   "source": [
    "import pandas as pd\n",
    "import requests\n",
    "from urllib.parse import urlencode"
   ]
  },
  {
   "cell_type": "markdown",
   "id": "58757504",
   "metadata": {},
   "source": [
    "## Загрузка файла и осмотр данных"
   ]
  },
  {
   "cell_type": "code",
   "execution_count": 2,
   "id": "adf76b39",
   "metadata": {},
   "outputs": [],
   "source": [
    "# получаем прямую ссылку на файлы\n",
    "base_url = 'https://cloud-api.yandex.net/v1/disk/public/resources/download?'\n",
    "\n",
    "\n",
    "# ссылки на данные с указанием разделителя csv-файла\n",
    "links_dic = {\n",
    "    'nomenk_wine': ['https://disk.yandex.ru/d/A_mPari4YOl8ZA', ';']}\n",
    "\n",
    "# скачиваем файлы\n",
    "for csv_filename, csv_link in links_dic.items():\n",
    "    final_url = base_url + urlencode(dict(public_key=csv_link[0]))\n",
    "    response = requests.get(final_url)\n",
    "    download_url = response.json()['href']\n",
    "    globals()[csv_filename] = pd.read_csv(download_url, sep=csv_link[1])"
   ]
  },
  {
   "cell_type": "markdown",
   "id": "aff5d36a",
   "metadata": {},
   "source": [
    "Взглянем на данные:"
   ]
  },
  {
   "cell_type": "code",
   "execution_count": 3,
   "id": "945df2fe",
   "metadata": {},
   "outputs": [
    {
     "data": {
      "text/html": [
       "<div>\n",
       "<style scoped>\n",
       "    .dataframe tbody tr th:only-of-type {\n",
       "        vertical-align: middle;\n",
       "    }\n",
       "\n",
       "    .dataframe tbody tr th {\n",
       "        vertical-align: top;\n",
       "    }\n",
       "\n",
       "    .dataframe thead th {\n",
       "        text-align: right;\n",
       "    }\n",
       "</style>\n",
       "<table border=\"1\" class=\"dataframe\">\n",
       "  <thead>\n",
       "    <tr style=\"text-align: right;\">\n",
       "      <th></th>\n",
       "      <th>date</th>\n",
       "      <th>lvl_5</th>\n",
       "      <th>card_id</th>\n",
       "      <th>checks</th>\n",
       "    </tr>\n",
       "  </thead>\n",
       "  <tbody>\n",
       "    <tr>\n",
       "      <th>0</th>\n",
       "      <td>2022-01-01</td>\n",
       "      <td>ВИНО АРОМАТИЗИРОВАННОЕ</td>\n",
       "      <td>3338</td>\n",
       "      <td>1</td>\n",
       "    </tr>\n",
       "    <tr>\n",
       "      <th>1</th>\n",
       "      <td>2022-01-01</td>\n",
       "      <td>ВИНО АРОМАТИЗИРОВАННОЕ</td>\n",
       "      <td>3988</td>\n",
       "      <td>1</td>\n",
       "    </tr>\n",
       "    <tr>\n",
       "      <th>2</th>\n",
       "      <td>2022-01-01</td>\n",
       "      <td>ВИНО АРОМАТИЗИРОВАННОЕ</td>\n",
       "      <td>12237</td>\n",
       "      <td>1</td>\n",
       "    </tr>\n",
       "    <tr>\n",
       "      <th>3</th>\n",
       "      <td>2022-01-01</td>\n",
       "      <td>ВИНО АРОМАТИЗИРОВАННОЕ</td>\n",
       "      <td>14576</td>\n",
       "      <td>1</td>\n",
       "    </tr>\n",
       "    <tr>\n",
       "      <th>4</th>\n",
       "      <td>2022-01-01</td>\n",
       "      <td>ВИНО АРОМАТИЗИРОВАННОЕ</td>\n",
       "      <td>18316</td>\n",
       "      <td>1</td>\n",
       "    </tr>\n",
       "  </tbody>\n",
       "</table>\n",
       "</div>"
      ],
      "text/plain": [
       "         date                   lvl_5  card_id  checks\n",
       "0  2022-01-01  ВИНО АРОМАТИЗИРОВАННОЕ     3338       1\n",
       "1  2022-01-01  ВИНО АРОМАТИЗИРОВАННОЕ     3988       1\n",
       "2  2022-01-01  ВИНО АРОМАТИЗИРОВАННОЕ    12237       1\n",
       "3  2022-01-01  ВИНО АРОМАТИЗИРОВАННОЕ    14576       1\n",
       "4  2022-01-01  ВИНО АРОМАТИЗИРОВАННОЕ    18316       1"
      ]
     },
     "execution_count": 3,
     "metadata": {},
     "output_type": "execute_result"
    }
   ],
   "source": [
    "nomenk_wine.head()"
   ]
  },
  {
   "cell_type": "code",
   "execution_count": 4,
   "id": "fbe81c60",
   "metadata": {},
   "outputs": [
    {
     "name": "stdout",
     "output_type": "stream",
     "text": [
      "<class 'pandas.core.frame.DataFrame'>\n",
      "RangeIndex: 474168 entries, 0 to 474167\n",
      "Data columns (total 4 columns):\n",
      " #   Column   Non-Null Count   Dtype \n",
      "---  ------   --------------   ----- \n",
      " 0   date     474168 non-null  object\n",
      " 1   lvl_5    474168 non-null  object\n",
      " 2   card_id  474168 non-null  int64 \n",
      " 3   checks   474168 non-null  int64 \n",
      "dtypes: int64(2), object(2)\n",
      "memory usage: 14.5+ MB\n"
     ]
    }
   ],
   "source": [
    "nomenk_wine.info()"
   ]
  },
  {
   "cell_type": "markdown",
   "id": "dde2f5ca",
   "metadata": {},
   "source": [
    "Посмотрим на список товаров:"
   ]
  },
  {
   "cell_type": "code",
   "execution_count": 5,
   "id": "85a24017",
   "metadata": {},
   "outputs": [
    {
     "data": {
      "text/plain": [
       "array(['ВИНО АРОМАТИЗИРОВАННОЕ', 'ВИНО БЕЛОЕ', 'ВИНО БЭГ-ИН-БОКС/ТЕТРАП.',\n",
       "       'ВИНО КРАСНОЕ', 'ВИНО КРЕПЛЕНОЕ, КАГОР', 'ВИНО ПЛОДОВЫЕ',\n",
       "       'ВИНО РОЗОВЫЕ', 'ВИСКИ', 'ВОДА 1Л И БОЛЕЕ', 'ВОДА МЕНЕЕ 1 ЛИТРА',\n",
       "       'ВОДКА ОБЫКНОВЕННАЯ', 'ВОДКА ОСОБАЯ',\n",
       "       'ГАЗИРОВАННЫЙ ВИННЫЙ НАПИТОК', 'ДИСТИЛЛЯТЫ ПРОЧИЕ',\n",
       "       'ИМП. КОНЬЯК, БРЕНДИ, АРМАНЬЯК', 'КОНЬЯК, БРЕНДИ РОССИЯ',\n",
       "       'ЛИКЕРЫ, БАЛЬЗАМЫ', 'НАПИТКИ Б/А 1Л И БОЛЕЕ',\n",
       "       'НАПИТКИ Б/А МЕНЕЕ 1 Л', 'НАСТОЙКИ', 'ПИВО БОЛЕЕ 1 ЛИТРА',\n",
       "       'ПИВО ДО 1 ЛИТРА', 'ПРЕДМЕТЫ ДЛЯ КУРЕНИЯ', 'РАЗЛИВНЫЕ НАПИТКИ',\n",
       "       'СИГАРЕТЫ', 'СИРОПЫ И ФРУКТ. НАПИТКИ', 'СЛАБЫЙ АЛКОГОЛЬ',\n",
       "       'СОКИ И НЕКТАРЫ 1 Л И МЕНЕЕ', 'СОКИ И НЕКТАРЫ В ИНД УПАКОВКЕ',\n",
       "       'СОКИ И НЕКТАРЫ СВЫШЕ 1 Л.', 'ШАМПАНСКИЕ И ИГРИСТЫЕ'], dtype=object)"
      ]
     },
     "execution_count": 5,
     "metadata": {},
     "output_type": "execute_result"
    }
   ],
   "source": [
    "nomenk_wine.lvl_5.unique()"
   ]
  },
  {
   "cell_type": "markdown",
   "id": "74fb229d",
   "metadata": {},
   "source": [
    "Сумма списка товаров:"
   ]
  },
  {
   "cell_type": "code",
   "execution_count": 6,
   "id": "71a40104",
   "metadata": {},
   "outputs": [
    {
     "data": {
      "text/plain": [
       "31"
      ]
     },
     "execution_count": 6,
     "metadata": {},
     "output_type": "execute_result"
    }
   ],
   "source": [
    "nomenk_wine.lvl_5.nunique()"
   ]
  },
  {
   "cell_type": "markdown",
   "id": "3d2c44b9",
   "metadata": {},
   "source": [
    "Посмотрим на общее количество покупателей:"
   ]
  },
  {
   "cell_type": "code",
   "execution_count": 7,
   "id": "e3384d52",
   "metadata": {},
   "outputs": [
    {
     "data": {
      "text/plain": [
       "474168"
      ]
     },
     "execution_count": 7,
     "metadata": {},
     "output_type": "execute_result"
    }
   ],
   "source": [
    "nomenk_wine.card_id.count()"
   ]
  },
  {
   "cell_type": "markdown",
   "id": "bce1e5a6",
   "metadata": {},
   "source": [
    "Посмотрим на количество уникальных покупателей:"
   ]
  },
  {
   "cell_type": "code",
   "execution_count": 8,
   "id": "1aaf0911",
   "metadata": {},
   "outputs": [
    {
     "data": {
      "text/plain": [
       "68549"
      ]
     },
     "execution_count": 8,
     "metadata": {},
     "output_type": "execute_result"
    }
   ],
   "source": [
    "nomenk_wine.card_id.nunique()"
   ]
  },
  {
   "cell_type": "markdown",
   "id": "28afa5ab",
   "metadata": {},
   "source": [
    "## Подключаем бота и пишем первую функцию"
   ]
  },
  {
   "cell_type": "markdown",
   "id": "0fbcb034",
   "metadata": {},
   "source": [
    "Для работы с API телеграма есть специальная библиотека – telebot. Нам нужно ее установить."
   ]
  },
  {
   "cell_type": "markdown",
   "id": "2df2440d",
   "metadata": {},
   "source": []
  },
  {
   "cell_type": "code",
   "execution_count": 9,
   "id": "f7506dc4",
   "metadata": {},
   "outputs": [],
   "source": [
    "import telebot\n",
    "from telebot import types"
   ]
  },
  {
   "cell_type": "code",
   "execution_count": 10,
   "id": "5ee3b904",
   "metadata": {},
   "outputs": [],
   "source": [
    "# подключим токен нашего бота\n",
    "bot = telebot.TeleBot(\"5957665154:AAFuyapHxy_H_A6ALTJ9ZjKHPX5723MWALQ\")"
   ]
  },
  {
   "cell_type": "markdown",
   "id": "1db8e306",
   "metadata": {},
   "source": [
    "### Напишем первую команду"
   ]
  },
  {
   "cell_type": "code",
   "execution_count": 11,
   "id": "81dcb270",
   "metadata": {},
   "outputs": [],
   "source": [
    "# напишем, что делать нашему боту при команде старт\n",
    "@bot.message_handler(commands=['start']) #декоратор\n",
    "def send_keyboard(message, text=\"Привет, чем я могу тебе помочь?\"):\n",
    "    keyboard = types.ReplyKeyboardMarkup(row_width=1)  # наша клавиатура\n",
    "    itembtn1 = types.KeyboardButton('Добавить продажи') # создадим кнопку\n",
    "    itembtn2 = types.KeyboardButton('Показать отчёт')\n",
    "    keyboard.add(itembtn1, itembtn2) # добавим кнопки 1 и 2 на первый ряд\n",
    "    # пришлем это все сообщением и запишем выбранный вариант\n",
    "    msg = bot.send_message(message.from_user.id,\n",
    "                     text=text, reply_markup=keyboard) #бот возращает юзеру клавиатуру с кнопками\n",
    "\n",
    "    # отправим этот вариант в функцию, которая его обработает\n",
    "    bot.register_next_step_handler(msg, callback_worker)"
   ]
  },
  {
   "cell_type": "markdown",
   "id": "b80ea54e",
   "metadata": {},
   "source": [
    "### Добавляем SQLite"
   ]
  },
  {
   "cell_type": "markdown",
   "id": "3b70e4bf",
   "metadata": {},
   "source": [
    "Устанавливать ее не нужно – она встроена в питон. Можем сразу начинать работать. Подключим ее:"
   ]
  },
  {
   "cell_type": "code",
   "execution_count": 12,
   "id": "6f17ae91",
   "metadata": {},
   "outputs": [],
   "source": [
    "import sqlite3\n",
    "import sqlalchemy"
   ]
  },
  {
   "cell_type": "code",
   "execution_count": 13,
   "id": "e73507a6",
   "metadata": {},
   "outputs": [],
   "source": [
    "# подключаем базу данных\n",
    "conn = sqlite3.connect('baza_nom.db')\n",
    "# курсор для работы с таблицами\n",
    "cursor = conn.cursor()"
   ]
  },
  {
   "cell_type": "markdown",
   "id": "0dc46b28",
   "metadata": {},
   "source": [
    "Загрузим наш датафрейм в базу данных:"
   ]
  },
  {
   "cell_type": "code",
   "execution_count": 14,
   "id": "0ffc7e0f",
   "metadata": {},
   "outputs": [],
   "source": [
    "cnx = sqlite3.connect('baza_nom.db')"
   ]
  },
  {
   "cell_type": "code",
   "execution_count": 15,
   "id": "eacd7142",
   "metadata": {},
   "outputs": [],
   "source": [
    "#nomenk_wine.to_sql(name='planner2', con=cnx)"
   ]
  },
  {
   "cell_type": "markdown",
   "id": "bcb73612",
   "metadata": {},
   "source": [
    "Выполним SQL запрос к нашей базе данных:"
   ]
  },
  {
   "cell_type": "code",
   "execution_count": 16,
   "id": "bf7c02e1",
   "metadata": {},
   "outputs": [],
   "source": [
    "p2 = pd.read_sql('select lvl_5 from planner2', cnx)"
   ]
  },
  {
   "cell_type": "code",
   "execution_count": 17,
   "id": "645e80b4",
   "metadata": {},
   "outputs": [
    {
     "data": {
      "text/html": [
       "<div>\n",
       "<style scoped>\n",
       "    .dataframe tbody tr th:only-of-type {\n",
       "        vertical-align: middle;\n",
       "    }\n",
       "\n",
       "    .dataframe tbody tr th {\n",
       "        vertical-align: top;\n",
       "    }\n",
       "\n",
       "    .dataframe thead th {\n",
       "        text-align: right;\n",
       "    }\n",
       "</style>\n",
       "<table border=\"1\" class=\"dataframe\">\n",
       "  <thead>\n",
       "    <tr style=\"text-align: right;\">\n",
       "      <th></th>\n",
       "      <th>lvl_5</th>\n",
       "    </tr>\n",
       "  </thead>\n",
       "  <tbody>\n",
       "    <tr>\n",
       "      <th>0</th>\n",
       "      <td>ВИНО АРОМАТИЗИРОВАННОЕ</td>\n",
       "    </tr>\n",
       "    <tr>\n",
       "      <th>1</th>\n",
       "      <td>ВИНО АРОМАТИЗИРОВАННОЕ</td>\n",
       "    </tr>\n",
       "    <tr>\n",
       "      <th>2</th>\n",
       "      <td>ВИНО АРОМАТИЗИРОВАННОЕ</td>\n",
       "    </tr>\n",
       "    <tr>\n",
       "      <th>3</th>\n",
       "      <td>ВИНО АРОМАТИЗИРОВАННОЕ</td>\n",
       "    </tr>\n",
       "    <tr>\n",
       "      <th>4</th>\n",
       "      <td>ВИНО АРОМАТИЗИРОВАННОЕ</td>\n",
       "    </tr>\n",
       "    <tr>\n",
       "      <th>...</th>\n",
       "      <td>...</td>\n",
       "    </tr>\n",
       "    <tr>\n",
       "      <th>474164</th>\n",
       "      <td>ШАМПАНСКИЕ И ИГРИСТЫЕ</td>\n",
       "    </tr>\n",
       "    <tr>\n",
       "      <th>474165</th>\n",
       "      <td>ШАМПАНСКИЕ И ИГРИСТЫЕ</td>\n",
       "    </tr>\n",
       "    <tr>\n",
       "      <th>474166</th>\n",
       "      <td>ШАМПАНСКИЕ И ИГРИСТЫЕ</td>\n",
       "    </tr>\n",
       "    <tr>\n",
       "      <th>474167</th>\n",
       "      <td>ШАМПАНСКИЕ И ИГРИСТЫЕ</td>\n",
       "    </tr>\n",
       "    <tr>\n",
       "      <th>474168</th>\n",
       "      <td>4546</td>\n",
       "    </tr>\n",
       "  </tbody>\n",
       "</table>\n",
       "<p>474169 rows × 1 columns</p>\n",
       "</div>"
      ],
      "text/plain": [
       "                         lvl_5\n",
       "0       ВИНО АРОМАТИЗИРОВАННОЕ\n",
       "1       ВИНО АРОМАТИЗИРОВАННОЕ\n",
       "2       ВИНО АРОМАТИЗИРОВАННОЕ\n",
       "3       ВИНО АРОМАТИЗИРОВАННОЕ\n",
       "4       ВИНО АРОМАТИЗИРОВАННОЕ\n",
       "...                        ...\n",
       "474164   ШАМПАНСКИЕ И ИГРИСТЫЕ\n",
       "474165   ШАМПАНСКИЕ И ИГРИСТЫЕ\n",
       "474166   ШАМПАНСКИЕ И ИГРИСТЫЕ\n",
       "474167   ШАМПАНСКИЕ И ИГРИСТЫЕ\n",
       "474168                    4546\n",
       "\n",
       "[474169 rows x 1 columns]"
      ]
     },
     "execution_count": 17,
     "metadata": {},
     "output_type": "execute_result"
    }
   ],
   "source": [
    "p2"
   ]
  },
  {
   "cell_type": "markdown",
   "id": "cd6bc519",
   "metadata": {},
   "source": [
    "### Пишем функции нашему боту"
   ]
  },
  {
   "cell_type": "markdown",
   "id": "3c722f4f",
   "metadata": {},
   "source": [
    "В разделе 4.1  мы сделали 2 кнопки для нашего бота:\n",
    "\n",
    "- Добавить продажи  \n",
    "- Показать отчёт  "
   ]
  },
  {
   "cell_type": "markdown",
   "id": "7dd02a6c",
   "metadata": {},
   "source": [
    "#### Добавим продажи в список"
   ]
  },
  {
   "cell_type": "code",
   "execution_count": 18,
   "id": "63f4013f",
   "metadata": {},
   "outputs": [],
   "source": [
    "# напишем функции для каждого случая\n",
    "# эта добавляет строчку с планом в хранилище\n",
    "def add_plan(msg):\n",
    "    with sqlite3.connect('baza_nom.db') as con:\n",
    "        cursor = con.cursor()\n",
    "        cursor.execute('INSERT INTO planner2 (card_id, lvl_5) VALUES (?, ?)',\n",
    "                       (msg.from_user.id, msg.text))\n",
    "        con.commit()\n",
    "    bot.send_message(msg.chat.id, 'Запомню :-)')\n",
    "    send_keyboard(msg, \"Чем еще могу помочь?\")"
   ]
  },
  {
   "cell_type": "markdown",
   "id": "a9b8ee2a",
   "metadata": {},
   "source": [
    "#### Покажем отчёт"
   ]
  },
  {
   "cell_type": "code",
   "execution_count": 19,
   "id": "80154b21",
   "metadata": {},
   "outputs": [],
   "source": [
    "# просто функция, которая делает нам красивые строки для отправки пользователю\n",
    "def get_plans_string(tasks):\n",
    "    tasks_str = []\n",
    "    for val in list(enumerate(tasks)): # val=(0, (дело1))\n",
    "        tasks_str.append(str(val[0] + 1) + ') ' + val[1][0] + '\\n')\n",
    "    return ''.join(tasks_str)\n",
    "\n",
    "# отправляем пользователю его отчет\n",
    "def show_plans(msg):\n",
    "    with sqlite3.connect('baza_nom.db') as con:\n",
    "        cursor = con.cursor()\n",
    "        cursor.execute('SELECT count(card_id) FROM planner2'.format(msg.from_user.id))\n",
    "        tasks = get_plans_string(cursor.fetchall())\n",
    "        bot.send_message(msg.chat.id, tasks)\n",
    "        send_keyboard(msg, \"Чем еще могу помочь?\")"
   ]
  },
  {
   "cell_type": "markdown",
   "id": "82edd7d3",
   "metadata": {},
   "source": [
    "#### Связываем отчёт"
   ]
  },
  {
   "cell_type": "markdown",
   "id": "917284ac",
   "metadata": {},
   "source": [
    "Отправим этот вариант в функцию, которая его обработает:"
   ]
  },
  {
   "cell_type": "markdown",
   "id": "af468db3",
   "metadata": {},
   "source": [
    "Напишем функцию, которая все обрабатывать:"
   ]
  },
  {
   "cell_type": "code",
   "execution_count": 20,
   "id": "0d272bdb",
   "metadata": {},
   "outputs": [],
   "source": [
    "# привязываем функции к кнопкам на клавиатуре\n",
    "def callback_worker(call):\n",
    "    if call.text == \"Добавить продажи\":\n",
    "        msg = bot.send_message(call.chat.id, 'Давайте добавим данные!')\n",
    "        bot.register_next_step_handler(msg, add_plan)\n",
    "\n",
    "    elif call.text == \"Показать отчёт\":\n",
    "        try:\n",
    "            show_plans(call)\n",
    "        except:\n",
    "            bot.send_message(call.chat.id, 'Здесь пусто. :-)')\n",
    "            send_keyboard(call, \"Чем еще могу помочь?\")"
   ]
  },
  {
   "cell_type": "markdown",
   "id": "3cfcdfc4",
   "metadata": {},
   "source": [
    "Допишем функцию, которая на любое текстовое сообщение будет заново кидать клавиатуру:"
   ]
  },
  {
   "cell_type": "code",
   "execution_count": 21,
   "id": "75f964b7",
   "metadata": {},
   "outputs": [],
   "source": [
    "@bot.message_handler(content_types=['text'])\n",
    "def handle_docs_audio(message):\n",
    "    send_keyboard(message, text=\"Я не понимаю :-( Выберите один из пунктов меню:\")"
   ]
  },
  {
   "cell_type": "markdown",
   "id": "351c063a",
   "metadata": {},
   "source": [
    "И последняя строчка:"
   ]
  },
  {
   "cell_type": "code",
   "execution_count": null,
   "id": "b6ea40f5",
   "metadata": {},
   "outputs": [],
   "source": [
    "bot.polling(none_stop=True) # или bot.infinity_polling()"
   ]
  },
  {
   "cell_type": "markdown",
   "id": "6d3d1d8a",
   "metadata": {},
   "source": [
    "Это значит, что наш бот постоянно спрашивает у телеграма нет ли для него новых сообщений. Если мы запустимэту строчку, то Наш бот заработает! НО работать он будет только если Наш код запущен – то есть при выключении компьютера или закрытии программы бот отвечать перестанет."
   ]
  }
 ],
 "metadata": {
  "kernelspec": {
   "display_name": "Python 3 (ipykernel)",
   "language": "python",
   "name": "python3"
  },
  "language_info": {
   "codemirror_mode": {
    "name": "ipython",
    "version": 3
   },
   "file_extension": ".py",
   "mimetype": "text/x-python",
   "name": "python",
   "nbconvert_exporter": "python",
   "pygments_lexer": "ipython3",
   "version": "3.9.7"
  },
  "toc": {
   "base_numbering": 1,
   "nav_menu": {},
   "number_sections": true,
   "sideBar": true,
   "skip_h1_title": true,
   "title_cell": "Table of Contents",
   "title_sidebar": "Contents",
   "toc_cell": true,
   "toc_position": {},
   "toc_section_display": true,
   "toc_window_display": false
  }
 },
 "nbformat": 4,
 "nbformat_minor": 5
}
