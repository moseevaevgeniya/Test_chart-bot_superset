{
 "cells": [
  {
   "cell_type": "markdown",
   "id": "784b5af9",
   "metadata": {
    "toc": true
   },
   "source": [
    "<h1>Table of Contents<span class=\"tocSkip\"></span></h1>\n",
    "<div class=\"toc\"><ul class=\"toc-item\"><li><span><a href=\"#Описание-данных\" data-toc-modified-id=\"Описание-данных-1\"><span class=\"toc-item-num\">1&nbsp;&nbsp;</span>Описание данных</a></span></li><li><span><a href=\"#Загрузка-библиотек\" data-toc-modified-id=\"Загрузка-библиотек-2\"><span class=\"toc-item-num\">2&nbsp;&nbsp;</span>Загрузка библиотек</a></span></li><li><span><a href=\"#Загрузка-файла-и-осмотр-данных\" data-toc-modified-id=\"Загрузка-файла-и-осмотр-данных-3\"><span class=\"toc-item-num\">3&nbsp;&nbsp;</span>Загрузка файла и осмотр данных</a></span></li><li><span><a href=\"#Preset\" data-toc-modified-id=\"Preset-4\"><span class=\"toc-item-num\">4&nbsp;&nbsp;</span>Preset</a></span><ul class=\"toc-item\"><li><span><a href=\"#В-Preset-после-загрузки-базы-данных,-переходим-во-вкладку-SQL-LAB--и-пишем-запрос:\" data-toc-modified-id=\"В-Preset-после-загрузки-базы-данных,-переходим-во-вкладку-SQL-LAB--и-пишем-запрос:-4.1\"><span class=\"toc-item-num\">4.1&nbsp;&nbsp;</span>В Preset после загрузки базы данных, переходим во вкладку SQL LAB  и пишем запрос:</a></span></li></ul></li></ul></div>"
   ]
  },
  {
   "cell_type": "markdown",
   "id": "e1b4f075",
   "metadata": {},
   "source": [
    "# Формирование запроса в Preset  для построения когортного анализа"
   ]
  },
  {
   "cell_type": "markdown",
   "id": "ce2decf4",
   "metadata": {},
   "source": [
    "## Описание данных"
   ]
  },
  {
   "cell_type": "markdown",
   "id": "7443e2a9",
   "metadata": {},
   "source": [
    "Таблица `nomenk_wine`  содержит сущности:  \n",
    "- `date` - первый день месяца,  \n",
    "- `lvl_5` - номенклатура,  \n",
    "- `card_id` - ключ покупателя,   \n",
    "- `checks` - количество уникальных чеков. "
   ]
  },
  {
   "cell_type": "markdown",
   "id": "5033d131",
   "metadata": {},
   "source": [
    "## Загрузка библиотек"
   ]
  },
  {
   "cell_type": "code",
   "execution_count": 1,
   "id": "48051138",
   "metadata": {},
   "outputs": [],
   "source": [
    "import pandas as pd\n",
    "import requests\n",
    "from urllib.parse import urlencode"
   ]
  },
  {
   "cell_type": "code",
   "execution_count": 2,
   "id": "f4237488",
   "metadata": {},
   "outputs": [],
   "source": [
    "from datetime import datetime                               # для преобразования к типу данных 'дата'\n",
    "import datetime as dt"
   ]
  },
  {
   "cell_type": "code",
   "execution_count": 3,
   "id": "f8f61d47",
   "metadata": {},
   "outputs": [],
   "source": [
    "import seaborn as sns\n",
    "from matplotlib import pyplot as plt"
   ]
  },
  {
   "cell_type": "markdown",
   "id": "a34ad3de",
   "metadata": {},
   "source": [
    "## Загрузка файла и осмотр данных"
   ]
  },
  {
   "cell_type": "code",
   "execution_count": 4,
   "id": "dd324074",
   "metadata": {},
   "outputs": [],
   "source": [
    "# получаем прямую ссылку на файлы\n",
    "base_url = 'https://cloud-api.yandex.net/v1/disk/public/resources/download?'\n",
    "\n",
    "\n",
    "# ссылки на данные с указанием разделителя csv-файла\n",
    "links_dic = {\n",
    "    'comandor_11': ['https://disk.yandex.ru/d/A_mPari4YOl8ZA', ';']}\n",
    "\n",
    "# скачиваем файлы\n",
    "for csv_filename, csv_link in links_dic.items():\n",
    "    final_url = base_url + urlencode(dict(public_key=csv_link[0]))\n",
    "    response = requests.get(final_url)\n",
    "    download_url = response.json()['href']\n",
    "    globals()[csv_filename] = pd.read_csv(download_url, sep=csv_link[1])"
   ]
  },
  {
   "cell_type": "markdown",
   "id": "a666de62",
   "metadata": {},
   "source": [
    "Взглянем на данные:"
   ]
  },
  {
   "cell_type": "code",
   "execution_count": 5,
   "id": "b5a2e371",
   "metadata": {},
   "outputs": [
    {
     "data": {
      "text/html": [
       "<div>\n",
       "<style scoped>\n",
       "    .dataframe tbody tr th:only-of-type {\n",
       "        vertical-align: middle;\n",
       "    }\n",
       "\n",
       "    .dataframe tbody tr th {\n",
       "        vertical-align: top;\n",
       "    }\n",
       "\n",
       "    .dataframe thead th {\n",
       "        text-align: right;\n",
       "    }\n",
       "</style>\n",
       "<table border=\"1\" class=\"dataframe\">\n",
       "  <thead>\n",
       "    <tr style=\"text-align: right;\">\n",
       "      <th></th>\n",
       "      <th>date</th>\n",
       "      <th>lvl_5</th>\n",
       "      <th>card_id</th>\n",
       "      <th>checks</th>\n",
       "    </tr>\n",
       "  </thead>\n",
       "  <tbody>\n",
       "    <tr>\n",
       "      <th>0</th>\n",
       "      <td>2022-01-01</td>\n",
       "      <td>ВИНО АРОМАТИЗИРОВАННОЕ</td>\n",
       "      <td>3338</td>\n",
       "      <td>1</td>\n",
       "    </tr>\n",
       "    <tr>\n",
       "      <th>1</th>\n",
       "      <td>2022-01-01</td>\n",
       "      <td>ВИНО АРОМАТИЗИРОВАННОЕ</td>\n",
       "      <td>3988</td>\n",
       "      <td>1</td>\n",
       "    </tr>\n",
       "    <tr>\n",
       "      <th>2</th>\n",
       "      <td>2022-01-01</td>\n",
       "      <td>ВИНО АРОМАТИЗИРОВАННОЕ</td>\n",
       "      <td>12237</td>\n",
       "      <td>1</td>\n",
       "    </tr>\n",
       "    <tr>\n",
       "      <th>3</th>\n",
       "      <td>2022-01-01</td>\n",
       "      <td>ВИНО АРОМАТИЗИРОВАННОЕ</td>\n",
       "      <td>14576</td>\n",
       "      <td>1</td>\n",
       "    </tr>\n",
       "    <tr>\n",
       "      <th>4</th>\n",
       "      <td>2022-01-01</td>\n",
       "      <td>ВИНО АРОМАТИЗИРОВАННОЕ</td>\n",
       "      <td>18316</td>\n",
       "      <td>1</td>\n",
       "    </tr>\n",
       "  </tbody>\n",
       "</table>\n",
       "</div>"
      ],
      "text/plain": [
       "         date                   lvl_5  card_id  checks\n",
       "0  2022-01-01  ВИНО АРОМАТИЗИРОВАННОЕ     3338       1\n",
       "1  2022-01-01  ВИНО АРОМАТИЗИРОВАННОЕ     3988       1\n",
       "2  2022-01-01  ВИНО АРОМАТИЗИРОВАННОЕ    12237       1\n",
       "3  2022-01-01  ВИНО АРОМАТИЗИРОВАННОЕ    14576       1\n",
       "4  2022-01-01  ВИНО АРОМАТИЗИРОВАННОЕ    18316       1"
      ]
     },
     "execution_count": 5,
     "metadata": {},
     "output_type": "execute_result"
    }
   ],
   "source": [
    "comandor_11.head()"
   ]
  },
  {
   "cell_type": "code",
   "execution_count": 6,
   "id": "27a72478",
   "metadata": {},
   "outputs": [
    {
     "name": "stdout",
     "output_type": "stream",
     "text": [
      "<class 'pandas.core.frame.DataFrame'>\n",
      "RangeIndex: 474168 entries, 0 to 474167\n",
      "Data columns (total 4 columns):\n",
      " #   Column   Non-Null Count   Dtype \n",
      "---  ------   --------------   ----- \n",
      " 0   date     474168 non-null  object\n",
      " 1   lvl_5    474168 non-null  object\n",
      " 2   card_id  474168 non-null  int64 \n",
      " 3   checks   474168 non-null  int64 \n",
      "dtypes: int64(2), object(2)\n",
      "memory usage: 14.5+ MB\n"
     ]
    }
   ],
   "source": [
    "comandor_11.info()"
   ]
  },
  {
   "cell_type": "markdown",
   "id": "bcf8eb73",
   "metadata": {},
   "source": [
    "Посмотрим на список товаров:"
   ]
  },
  {
   "cell_type": "code",
   "execution_count": 7,
   "id": "64be5155",
   "metadata": {},
   "outputs": [
    {
     "data": {
      "text/plain": [
       "array(['ВИНО АРОМАТИЗИРОВАННОЕ', 'ВИНО БЕЛОЕ', 'ВИНО БЭГ-ИН-БОКС/ТЕТРАП.',\n",
       "       'ВИНО КРАСНОЕ', 'ВИНО КРЕПЛЕНОЕ, КАГОР', 'ВИНО ПЛОДОВЫЕ',\n",
       "       'ВИНО РОЗОВЫЕ', 'ВИСКИ', 'ВОДА 1Л И БОЛЕЕ', 'ВОДА МЕНЕЕ 1 ЛИТРА',\n",
       "       'ВОДКА ОБЫКНОВЕННАЯ', 'ВОДКА ОСОБАЯ',\n",
       "       'ГАЗИРОВАННЫЙ ВИННЫЙ НАПИТОК', 'ДИСТИЛЛЯТЫ ПРОЧИЕ',\n",
       "       'ИМП. КОНЬЯК, БРЕНДИ, АРМАНЬЯК', 'КОНЬЯК, БРЕНДИ РОССИЯ',\n",
       "       'ЛИКЕРЫ, БАЛЬЗАМЫ', 'НАПИТКИ Б/А 1Л И БОЛЕЕ',\n",
       "       'НАПИТКИ Б/А МЕНЕЕ 1 Л', 'НАСТОЙКИ', 'ПИВО БОЛЕЕ 1 ЛИТРА',\n",
       "       'ПИВО ДО 1 ЛИТРА', 'ПРЕДМЕТЫ ДЛЯ КУРЕНИЯ', 'РАЗЛИВНЫЕ НАПИТКИ',\n",
       "       'СИГАРЕТЫ', 'СИРОПЫ И ФРУКТ. НАПИТКИ', 'СЛАБЫЙ АЛКОГОЛЬ',\n",
       "       'СОКИ И НЕКТАРЫ 1 Л И МЕНЕЕ', 'СОКИ И НЕКТАРЫ В ИНД УПАКОВКЕ',\n",
       "       'СОКИ И НЕКТАРЫ СВЫШЕ 1 Л.', 'ШАМПАНСКИЕ И ИГРИСТЫЕ'], dtype=object)"
      ]
     },
     "execution_count": 7,
     "metadata": {},
     "output_type": "execute_result"
    }
   ],
   "source": [
    "comandor_11.lvl_5.unique()"
   ]
  },
  {
   "cell_type": "markdown",
   "id": "75217988",
   "metadata": {},
   "source": [
    "Сумма списка товаров:"
   ]
  },
  {
   "cell_type": "code",
   "execution_count": 8,
   "id": "9ee551f8",
   "metadata": {},
   "outputs": [
    {
     "data": {
      "text/plain": [
       "31"
      ]
     },
     "execution_count": 8,
     "metadata": {},
     "output_type": "execute_result"
    }
   ],
   "source": [
    "comandor_11.lvl_5.nunique()"
   ]
  },
  {
   "cell_type": "markdown",
   "id": "cc6d570b",
   "metadata": {},
   "source": [
    "Посмотрим на общее количество покупателей:"
   ]
  },
  {
   "cell_type": "code",
   "execution_count": 9,
   "id": "539e1462",
   "metadata": {},
   "outputs": [
    {
     "data": {
      "text/plain": [
       "474168"
      ]
     },
     "execution_count": 9,
     "metadata": {},
     "output_type": "execute_result"
    }
   ],
   "source": [
    "comandor_11.card_id.count()"
   ]
  },
  {
   "cell_type": "markdown",
   "id": "8ee9001b",
   "metadata": {},
   "source": [
    "Посмотрим на количество уникальных покупателей:"
   ]
  },
  {
   "cell_type": "code",
   "execution_count": 10,
   "id": "4d2a117a",
   "metadata": {},
   "outputs": [
    {
     "data": {
      "text/plain": [
       "68549"
      ]
     },
     "execution_count": 10,
     "metadata": {},
     "output_type": "execute_result"
    }
   ],
   "source": [
    "comandor_11.card_id.nunique()"
   ]
  },
  {
   "cell_type": "markdown",
   "id": "79f6b9ef",
   "metadata": {},
   "source": [
    "Приводём дату к формату даты:"
   ]
  },
  {
   "cell_type": "code",
   "execution_count": 11,
   "id": "057fcc9d",
   "metadata": {},
   "outputs": [],
   "source": [
    "comandor_11['date'] = pd.to_datetime(comandor_11['date'].astype(str))\n",
    "comandor_11 = comandor_11.rename(columns = {'date': 'time'})\n"
   ]
  },
  {
   "cell_type": "markdown",
   "id": "ad004e9b",
   "metadata": {},
   "source": [
    "Убедимся, что преобразование получилось:"
   ]
  },
  {
   "cell_type": "code",
   "execution_count": 12,
   "id": "5115ab3e",
   "metadata": {},
   "outputs": [
    {
     "name": "stdout",
     "output_type": "stream",
     "text": [
      "<class 'pandas.core.frame.DataFrame'>\n",
      "RangeIndex: 474168 entries, 0 to 474167\n",
      "Data columns (total 4 columns):\n",
      " #   Column   Non-Null Count   Dtype         \n",
      "---  ------   --------------   -----         \n",
      " 0   time     474168 non-null  datetime64[ns]\n",
      " 1   lvl_5    474168 non-null  object        \n",
      " 2   card_id  474168 non-null  int64         \n",
      " 3   checks   474168 non-null  int64         \n",
      "dtypes: datetime64[ns](1), int64(2), object(1)\n",
      "memory usage: 14.5+ MB\n"
     ]
    }
   ],
   "source": [
    "comandor_11.info()"
   ]
  },
  {
   "cell_type": "markdown",
   "id": "78f9b973",
   "metadata": {},
   "source": [
    "## Preset"
   ]
  },
  {
   "cell_type": "markdown",
   "id": "54bcada2",
   "metadata": {},
   "source": [
    "### В Preset после загрузки базы данных, переходим во вкладку SQL LAB  и пишем запрос:"
   ]
  },
  {
   "cell_type": "markdown",
   "id": "b0063914",
   "metadata": {},
   "source": [
    "Построим запрос для визуализации кагорт:"
   ]
  },
  {
   "cell_type": "markdown",
   "id": "bd96b067",
   "metadata": {},
   "source": [
    "SELECT date, start_date, COUNT(card_id) as active_users FROM # формируем основу данных для когорт\n",
    "\n",
    "(SELECT card_id, min(Date(time)) as start_date  # определяем стартовые даты для покупателей, т.е. когда клиенты впервые\n",
    "FROM main.comandor_moseeva                      # совершили покупку\n",
    "GROUP BY card_id\n",
    ") t1\n",
    "\n",
    "JOIN \n",
    "\n",
    "(SELECT DISTINCT card_id, Date(time) as date     # определяем уникальный покупателей для всего периода датасета\n",
    "FROM main.comandor_moseeva                       #\n",
    ") t2\n",
    "\n",
    "using card_id                                    # объединяем запросы для формирования кагорт\n",
    "\n",
    "GROUP BY date, start_date                        # делаем группирповку"
   ]
  },
  {
   "cell_type": "markdown",
   "id": "18b70845",
   "metadata": {},
   "source": [
    "- Переходим к визуализации- выбираем тип графика Heatmap (тепловую карту)  \n",
    "- по оси Х отложим `date`  \n",
    "- по оси Y отложим `start_date` \n",
    "- В качестве метрики возьмём значение `active_users` и agdregate  выберем любую фенкцию, которая нам ничего не меняет-например MAX. "
   ]
  },
  {
   "cell_type": "markdown",
   "id": "b0238c4f",
   "metadata": {},
   "source": [
    "В Preset  не удалось визуализировать, выдаёт ошибки на синтаксис и ругается на тип данных. Данная конструкция должна работать, думаю в Preset  не все так хорошо в типах данных.   В Superset `card_id` был бы: uint32_t, `time` тип данных показывает сразу двух видов: TEXT и DATE"
   ]
  },
  {
   "cell_type": "code",
   "execution_count": null,
   "id": "138bbc5b",
   "metadata": {},
   "outputs": [],
   "source": []
  },
  {
   "cell_type": "code",
   "execution_count": null,
   "id": "17278d55",
   "metadata": {},
   "outputs": [],
   "source": []
  }
 ],
 "metadata": {
  "kernelspec": {
   "display_name": "Python 3 (ipykernel)",
   "language": "python",
   "name": "python3"
  },
  "language_info": {
   "codemirror_mode": {
    "name": "ipython",
    "version": 3
   },
   "file_extension": ".py",
   "mimetype": "text/x-python",
   "name": "python",
   "nbconvert_exporter": "python",
   "pygments_lexer": "ipython3",
   "version": "3.9.7"
  },
  "toc": {
   "base_numbering": 1,
   "nav_menu": {},
   "number_sections": true,
   "sideBar": true,
   "skip_h1_title": true,
   "title_cell": "Table of Contents",
   "title_sidebar": "Contents",
   "toc_cell": true,
   "toc_position": {},
   "toc_section_display": true,
   "toc_window_display": false
  }
 },
 "nbformat": 4,
 "nbformat_minor": 5
}
